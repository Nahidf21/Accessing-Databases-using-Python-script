{
 "cells": [
  {
   "cell_type": "code",
   "execution_count": 66,
   "metadata": {},
   "outputs": [],
   "source": [
    "# Importing the required libraries\n",
    "from bs4 import BeautifulSoup\n",
    "import requests\n",
    "import pandas as pd\n",
    "import sqlite3\n",
    "from datetime import datetime "
   ]
  },
  {
   "cell_type": "code",
   "execution_count": 61,
   "metadata": {},
   "outputs": [],
   "source": [
    "url = r'https://web.archive.org/web/20230908091635%20/https://en.wikipedia.org/wiki/List_of_largest_banks'\n",
    "\n",
    "# Log progress function\n",
    "def log_progress(message): \n",
    "    timestamp_format = '%Y-%m-%d %H:%M:%S'  # Standard timestamp format\n",
    "    now = datetime.now()  # Get current timestamp \n",
    "    timestamp = now.strftime(timestamp_format) \n",
    "    with open(\"./etl_project_log.txt\", \"a\") as f: \n",
    "        f.write(f\"{timestamp} : {message}\\n\")\n",
    "\n",
    "\n",
    "def extract(url):\n",
    "    page = requests.get(url).text\n",
    "    soup = BeautifulSoup(page,'html')\n",
    "\n",
    "    table = soup.find_all('tbody')\n",
    "    dic ={'Bank Name':[],'Market CAP (US$ billion)':[]}\n",
    "    table_body = table[0].find_all('tr')\n",
    "    for t_b in table_body[1:11]:\n",
    "        for i in range(0,3):\n",
    "            t=t_b.find_all('td')[i]\n",
    "            if i==1:\n",
    "                dic['Bank Name'].append(t.text.replace(\"/n\",\"\").strip())\n",
    "            if i==2:\n",
    "                dic['Market CAP (US$ billion)'].append(float(t.text.replace(\"/n\",\"\").strip()))\n",
    "\n",
    "    return pd.DataFrame(dic)      \n"
   ]
  },
  {
   "cell_type": "code",
   "execution_count": 62,
   "metadata": {},
   "outputs": [],
   "source": [
    "def transform(extract_df):\n",
    "    extract_df[\"MC_GBP_Billion\"] = round(extract_df['Market CAP (US$ billion)'] * 0.8,2)\n",
    "    extract_df[\"MC_EUR_Billion\"] = round(extract_df['Market CAP (US$ billion)'] * 0.93,2)\n",
    "    extract_df[\"MC_INR_Billion\"] = round(extract_df['Market CAP (US$ billion)'] * 82.95,2)\n",
    "\n",
    "    return extract_df\n"
   ]
  },
  {
   "cell_type": "code",
   "execution_count": 64,
   "metadata": {},
   "outputs": [],
   "source": [
    "def load_csv(transform_df,output_path):\n",
    "    transform_df.to_csv(output_path, index=False)\n",
    "\n",
    "def load_sqlBD(transform_df,sql_connection,table_name):\n",
    "    transform_df.to_sql(table_name, sql_connection, if_exists= 'replace', index= False)\n",
    "    \n",
    "\n",
    "def run_query(query_statement, sql_connection):\n",
    "    dbsql =pd.read_sql(query_statement,sql_connection)\n",
    "    print(dbsql)\n"
   ]
  },
  {
   "cell_type": "code",
   "execution_count": 65,
   "metadata": {},
   "outputs": [
    {
     "name": "stdout",
     "output_type": "stream",
     "text": [
      "                                 Bank Name  Market CAP (US$ billion)  \\\n",
      "0                           JPMorgan Chase                    432.92   \n",
      "1                          Bank of America                    231.52   \n",
      "2  Industrial and Commercial Bank of China                    194.56   \n",
      "3               Agricultural Bank of China                    160.68   \n",
      "4                                HDFC Bank                    157.91   \n",
      "5                              Wells Fargo                    155.87   \n",
      "6                        HSBC Holdings PLC                    148.90   \n",
      "7                           Morgan Stanley                    140.83   \n",
      "8                  China Construction Bank                    139.82   \n",
      "9                            Bank of China                    136.81   \n",
      "\n",
      "   MC_GBP_Billion  MC_EUR_Billion  MC_INR_Billion  \n",
      "0          346.34          402.62        35910.71  \n",
      "1          185.22          215.31        19204.58  \n",
      "2          155.65          180.94        16138.75  \n",
      "3          128.54          149.43        13328.41  \n",
      "4          126.33          146.86        13098.63  \n",
      "5          124.70          144.96        12929.42  \n",
      "6          119.12          138.48        12351.26  \n",
      "7          112.66          130.97        11681.85  \n",
      "8          111.86          130.03        11598.07  \n",
      "9          109.45          127.23        11348.39  \n"
     ]
    }
   ],
   "source": [
    "output_path = \" Largest_banks_data \"\n",
    "\n",
    "sql_connection = sqlite3.connect('Banks.db')\n",
    "table_name = \"Largest_banks\"\n",
    "query_statement = \"select * from Largest_banks\"\n",
    "log_progress(\"Data extraction begin\")\n",
    "extract_df =extract(url)\n",
    "log_progress(\"Data transformetion begin\")\n",
    "transform_df = transform(extract_df)\n",
    "log_progress(\"CSV load begin\")\n",
    "load_csv(transform_df,output_path)\n",
    "log_progress(\"SQL load begin\")\n",
    "load_sqlBD(transform_df,sql_connection,table_name)\n",
    "log_progress(f\"{query_statement}\")\n",
    "run_query(query_statement, sql_connection)\n",
    "sql_connection.close\n",
    "log_progress(f\"SQL Connection close\")"
   ]
  }
 ],
 "metadata": {
  "kernelspec": {
   "display_name": "Python 3",
   "language": "python",
   "name": "python3"
  },
  "language_info": {
   "codemirror_mode": {
    "name": "ipython",
    "version": 3
   },
   "file_extension": ".py",
   "mimetype": "text/x-python",
   "name": "python",
   "nbconvert_exporter": "python",
   "pygments_lexer": "ipython3",
   "version": "3.12.4"
  }
 },
 "nbformat": 4,
 "nbformat_minor": 2
}
